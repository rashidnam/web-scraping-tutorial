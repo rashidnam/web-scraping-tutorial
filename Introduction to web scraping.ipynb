{
 "cells": [
  {
   "cell_type": "markdown",
   "metadata": {},
   "source": [
    "# Introduction to web scraping using python"
   ]
  },
  {
   "cell_type": "markdown",
   "metadata": {},
   "source": [
    "### Part 1 - a very rapid introduction to python"
   ]
  },
  {
   "cell_type": "markdown",
   "metadata": {},
   "source": [
    "#### Basics - variables, indexing, operations"
   ]
  },
  {
   "cell_type": "code",
   "execution_count": 17,
   "metadata": {
    "collapsed": false
   },
   "outputs": [
    {
     "name": "stdout",
     "output_type": "stream",
     "text": [
      "2\n",
      "hello, world!\n"
     ]
    }
   ],
   "source": [
    "# Variable assignment\n",
    "x = 2\n",
    "y = 'hello, world!'\n",
    "print(x)\n",
    "print(y)"
   ]
  },
  {
   "cell_type": "markdown",
   "metadata": {},
   "source": [
    "##### Numerics"
   ]
  },
  {
   "cell_type": "code",
   "execution_count": 18,
   "metadata": {
    "collapsed": false
   },
   "outputs": [
    {
     "name": "stdout",
     "output_type": "stream",
     "text": [
      "<class 'float'>\n",
      "<class 'int'>\n"
     ]
    },
    {
     "data": {
      "text/plain": [
       "12.34"
      ]
     },
     "execution_count": 18,
     "metadata": {},
     "output_type": "execute_result"
    }
   ],
   "source": [
    "a = 12.3\n",
    "b = 2\n",
    "c = 0.01\n",
    "\n",
    "print(type(a)) # float\n",
    "print(type(b)) # int\n",
    "\n",
    "a + c * b**2 # Some random operation"
   ]
  },
  {
   "cell_type": "markdown",
   "metadata": {},
   "source": [
    "##### Strings"
   ]
  },
  {
   "cell_type": "code",
   "execution_count": 19,
   "metadata": {
    "collapsed": false
   },
   "outputs": [
    {
     "data": {
      "text/plain": [
       "str"
      ]
     },
     "execution_count": 19,
     "metadata": {},
     "output_type": "execute_result"
    }
   ],
   "source": [
    "# Data types - strings\n",
    "my_string = \"Hello friends!\"\n",
    "type(my_string)\n"
   ]
  },
  {
   "cell_type": "code",
   "execution_count": 20,
   "metadata": {
    "collapsed": false
   },
   "outputs": [],
   "source": [
    "# String operations\n",
    "firstname = 'Lionel'\n",
    "lastname = 'Richie'\n",
    "fullname =  firstname + ' ' + lastname"
   ]
  },
  {
   "cell_type": "code",
   "execution_count": 21,
   "metadata": {
    "collapsed": false
   },
   "outputs": [
    {
     "name": "stdout",
     "output_type": "stream",
     "text": [
      "L\n",
      "Lionel\n",
      "Richie\n"
     ]
    }
   ],
   "source": [
    "# Indexing\n",
    "print(fullname[0])\n",
    "print(fullname[0:6])\n",
    "print(fullname[-6:])"
   ]
  },
  {
   "cell_type": "markdown",
   "metadata": {},
   "source": [
    "##### Booleans"
   ]
  },
  {
   "cell_type": "code",
   "execution_count": 22,
   "metadata": {
    "collapsed": false
   },
   "outputs": [],
   "source": [
    "z = True\n",
    "a = False"
   ]
  },
  {
   "cell_type": "code",
   "execution_count": 23,
   "metadata": {
    "collapsed": false,
    "scrolled": true
   },
   "outputs": [
    {
     "data": {
      "text/plain": [
       "True"
      ]
     },
     "execution_count": 23,
     "metadata": {},
     "output_type": "execute_result"
    }
   ],
   "source": [
    "a == 0 # Booleans will return equality to 1 if True, 0 if False"
   ]
  },
  {
   "cell_type": "code",
   "execution_count": 24,
   "metadata": {
    "collapsed": false
   },
   "outputs": [
    {
     "data": {
      "text/plain": [
       "True"
      ]
     },
     "execution_count": 24,
     "metadata": {},
     "output_type": "execute_result"
    }
   ],
   "source": [
    "10 > 2"
   ]
  },
  {
   "cell_type": "markdown",
   "metadata": {},
   "source": [
    "#### Data structures"
   ]
  },
  {
   "cell_type": "markdown",
   "metadata": {},
   "source": [
    "##### Lists"
   ]
  },
  {
   "cell_type": "code",
   "execution_count": 25,
   "metadata": {
    "collapsed": false
   },
   "outputs": [],
   "source": [
    "numeric_list = [12, 13, 14, 18, 1, 3, 3]\n",
    "string_list = ['programming', 'is', 'fun']\n",
    "mixed_list = [1, '3', None, 2.4]"
   ]
  },
  {
   "cell_type": "code",
   "execution_count": 26,
   "metadata": {
    "collapsed": false
   },
   "outputs": [
    {
     "name": "stdout",
     "output_type": "stream",
     "text": [
      "[18, 1, 3, 3]\n",
      "programming\n"
     ]
    }
   ],
   "source": [
    "# List indexation - same as with strings\n",
    "print(numeric_list[3:8])\n",
    "print(string_list[0]) "
   ]
  },
  {
   "cell_type": "code",
   "execution_count": 27,
   "metadata": {
    "collapsed": false
   },
   "outputs": [
    {
     "name": "stdout",
     "output_type": "stream",
     "text": [
      "<class 'str'>\n",
      "<class 'list'>\n"
     ]
    }
   ],
   "source": [
    "# Important! Selecting one element from a list returns the element, selecting multiple elements returns a list\n",
    "print(type(mixed_list[1]))\n",
    "print(type(mixed_list[1:3]))"
   ]
  },
  {
   "cell_type": "code",
   "execution_count": 28,
   "metadata": {
    "collapsed": false
   },
   "outputs": [
    {
     "data": {
      "text/plain": [
       "30"
      ]
     },
     "execution_count": 28,
     "metadata": {},
     "output_type": "execute_result"
    }
   ],
   "source": [
    "# Operation on elements obtained through indexing\n",
    "numeric_list[0] + numeric_list[3] "
   ]
  },
  {
   "cell_type": "code",
   "execution_count": 29,
   "metadata": {
    "collapsed": false
   },
   "outputs": [
    {
     "ename": "TypeError",
     "evalue": "unsupported operand type(s) for +: 'int' and 'list'",
     "output_type": "error",
     "traceback": [
      "\u001b[0;31m---------------------------------------------------------------------------\u001b[0m",
      "\u001b[0;31mTypeError\u001b[0m                                 Traceback (most recent call last)",
      "\u001b[0;32m<ipython-input-29-901dae31cca1>\u001b[0m in \u001b[0;36m<module>\u001b[0;34m()\u001b[0m\n\u001b[1;32m      1\u001b[0m \u001b[1;31m# This will return an error, since we are extracting a length-1 list instead of the constituent element\u001b[0m\u001b[1;33m\u001b[0m\u001b[1;33m\u001b[0m\u001b[0m\n\u001b[0;32m----> 2\u001b[0;31m \u001b[0mnumeric_list\u001b[0m\u001b[1;33m[\u001b[0m\u001b[1;36m0\u001b[0m\u001b[1;33m]\u001b[0m \u001b[1;33m+\u001b[0m \u001b[0mnumeric_list\u001b[0m\u001b[1;33m[\u001b[0m\u001b[1;36m3\u001b[0m\u001b[1;33m:\u001b[0m\u001b[1;36m4\u001b[0m\u001b[1;33m]\u001b[0m\u001b[1;33m\u001b[0m\u001b[0m\n\u001b[0m",
      "\u001b[0;31mTypeError\u001b[0m: unsupported operand type(s) for +: 'int' and 'list'"
     ]
    }
   ],
   "source": [
    "# This will return an error, since we are extracting a length-1 list instead of the constituent element\n",
    "numeric_list[0] + numeric_list[3:4]"
   ]
  },
  {
   "cell_type": "code",
   "execution_count": 30,
   "metadata": {
    "collapsed": false
   },
   "outputs": [
    {
     "data": {
      "text/plain": [
       "[12, 13, 14, 18, 1, 3, 3, 'a', 'b', 'c']"
      ]
     },
     "execution_count": 30,
     "metadata": {},
     "output_type": "execute_result"
    }
   ],
   "source": [
    "# Adding to list\n",
    "numeric_list + ['a', 'b', 'c']"
   ]
  },
  {
   "cell_type": "code",
   "execution_count": 31,
   "metadata": {
    "collapsed": true
   },
   "outputs": [],
   "source": [
    "# Append adds one element\n",
    "numeric_list.append(['a', 'b', 'c'])"
   ]
  },
  {
   "cell_type": "code",
   "execution_count": 32,
   "metadata": {
    "collapsed": true
   },
   "outputs": [],
   "source": [
    "# Extend adds multiple elements\n",
    "numeric_list.extend(['x', 'y', 'z'])"
   ]
  },
  {
   "cell_type": "markdown",
   "metadata": {},
   "source": [
    "##### Dictionaries"
   ]
  },
  {
   "cell_type": "code",
   "execution_count": 33,
   "metadata": {
    "collapsed": false
   },
   "outputs": [
    {
     "data": {
      "text/plain": [
       "'thom_yorke@gmail.com'"
      ]
     },
     "execution_count": 33,
     "metadata": {},
     "output_type": "execute_result"
    }
   ],
   "source": [
    "contact_details = {'Thom Yorke': 'thom_yorke@gmail.com', 'Johnny Greenwood': 'j_g_w@mail.ru'}\n",
    "contact_details['Thom Yorke']"
   ]
  },
  {
   "cell_type": "code",
   "execution_count": 34,
   "metadata": {
    "collapsed": false
   },
   "outputs": [
    {
     "data": {
      "text/plain": [
       "{'Ed Obrien': 'ed_obrien@compasslexecon.com',\n",
       " 'Johnny Greenwood': 'j_g_w@mail.ru',\n",
       " 'Thom Yorke': 'thom_yorke@gmail.com'}"
      ]
     },
     "execution_count": 34,
     "metadata": {},
     "output_type": "execute_result"
    }
   ],
   "source": [
    "# Adding elements\n",
    "contact_details['Ed Obrien'] = 'ed_obrien@compasslexecon.com'\n",
    "contact_details"
   ]
  },
  {
   "cell_type": "markdown",
   "metadata": {},
   "source": [
    "#### Control flows"
   ]
  },
  {
   "cell_type": "code",
   "execution_count": 35,
   "metadata": {
    "collapsed": true
   },
   "outputs": [
    {
     "name": "stdout",
     "output_type": "stream",
     "text": [
      "0 : 0\n",
      "3 : 9\n",
      "6 : 36\n",
      "9 : 81\n",
      "12 : 144\n",
      "15 : 225\n",
      "18 : 324\n"
     ]
    }
   ],
   "source": [
    "# For loops\n",
    "integers = list(range(0, 20, 3))\n",
    "for i in integers:\n",
    "    print(i, ':', i**2)"
   ]
  },
  {
   "cell_type": "code",
   "execution_count": 36,
   "metadata": {
    "collapsed": true
   },
   "outputs": [
    {
     "name": "stdout",
     "output_type": "stream",
     "text": [
      "0.5\n",
      "1.0\n",
      "1.5\n",
      "2.0\n",
      "2.5\n",
      "3.0\n",
      "3.5\n",
      "4.0\n",
      "4.5\n"
     ]
    }
   ],
   "source": [
    "# While loops\n",
    "j = 1\n",
    "while j < 10:\n",
    "    print(j/2)\n",
    "    j += 1"
   ]
  },
  {
   "cell_type": "code",
   "execution_count": 37,
   "metadata": {
    "collapsed": false,
    "scrolled": true
   },
   "outputs": [
    {
     "name": "stdout",
     "output_type": "stream",
     "text": [
      "Congrats, your list is longer than 5\n"
     ]
    }
   ],
   "source": [
    "# If-else\n",
    "integers_2 = list(range(1, 30, 2))\n",
    "threshold = 5\n",
    "if len(integers_2) > threshold:\n",
    "    print('Congrats, your list is longer than {}'.format(threshold))\n",
    "else:\n",
    "    print('Too bad, your list is too short')\n",
    "        "
   ]
  },
  {
   "cell_type": "markdown",
   "metadata": {},
   "source": [
    "### Part 2 - web scraping"
   ]
  },
  {
   "cell_type": "code",
   "execution_count": 38,
   "metadata": {
    "collapsed": true
   },
   "outputs": [],
   "source": [
    "url = 'https://www.truckscout24.com/containers/used'"
   ]
  },
  {
   "cell_type": "markdown",
   "metadata": {},
   "source": [
    "#### Connecting to the webpage"
   ]
  },
  {
   "cell_type": "code",
   "execution_count": 39,
   "metadata": {
    "collapsed": false
   },
   "outputs": [],
   "source": [
    "import requests"
   ]
  },
  {
   "cell_type": "code",
   "execution_count": 40,
   "metadata": {
    "collapsed": false
   },
   "outputs": [
    {
     "data": {
      "text/plain": [
       "<Response [200]>"
      ]
     },
     "execution_count": 40,
     "metadata": {},
     "output_type": "execute_result"
    }
   ],
   "source": [
    "# Connect to the server, extract the data\n",
    "r = requests.get(url)\n",
    "r"
   ]
  },
  {
   "cell_type": "code",
   "execution_count": 41,
   "metadata": {
    "collapsed": false
   },
   "outputs": [],
   "source": [
    "# Save the content to a variable\n",
    "data = r.text"
   ]
  },
  {
   "cell_type": "code",
   "execution_count": 42,
   "metadata": {
    "collapsed": false
   },
   "outputs": [],
   "source": [
    "# Write the content to a text file (so we don't have to keep making requests)\n",
    "file = open('containers.txt', 'w', encoding='utf8')\n",
    "file.write(str(data))\n",
    "file.close()"
   ]
  },
  {
   "cell_type": "markdown",
   "metadata": {},
   "source": [
    "#### Making soup"
   ]
  },
  {
   "cell_type": "code",
   "execution_count": 43,
   "metadata": {
    "collapsed": false
   },
   "outputs": [],
   "source": [
    "# Import BeautifulSoup\n",
    "from bs4 import BeautifulSoup"
   ]
  },
  {
   "cell_type": "code",
   "execution_count": 47,
   "metadata": {
    "collapsed": true
   },
   "outputs": [
    {
     "ename": "AttributeError",
     "evalue": "'str' object has no attribute 'head'",
     "output_type": "error",
     "traceback": [
      "\u001b[0;31m---------------------------------------------------------------------------\u001b[0m",
      "\u001b[0;31mAttributeError\u001b[0m                            Traceback (most recent call last)",
      "\u001b[0;32m<ipython-input-47-9a74bd6b860a>\u001b[0m in \u001b[0;36m<module>\u001b[0;34m()\u001b[0m\n\u001b[1;32m      1\u001b[0m \u001b[1;31m# Parse the HTML, create a BeautifulSoup object\u001b[0m\u001b[1;33m\u001b[0m\u001b[1;33m\u001b[0m\u001b[0m\n\u001b[1;32m      2\u001b[0m \u001b[0msoup\u001b[0m \u001b[1;33m=\u001b[0m \u001b[0mBeautifulSoup\u001b[0m\u001b[1;33m(\u001b[0m\u001b[0mdata\u001b[0m\u001b[1;33m,\u001b[0m \u001b[1;34m'html.parser'\u001b[0m\u001b[1;33m)\u001b[0m\u001b[1;33m\u001b[0m\u001b[0m\n\u001b[0;32m----> 3\u001b[0;31m \u001b[0msoup\u001b[0m\u001b[1;33m.\u001b[0m\u001b[0mprettify\u001b[0m\u001b[1;33m(\u001b[0m\u001b[1;33m)\u001b[0m\u001b[1;33m.\u001b[0m\u001b[0mhead\u001b[0m\u001b[1;33m(\u001b[0m\u001b[1;33m)\u001b[0m\u001b[1;33m\u001b[0m\u001b[0m\n\u001b[0m",
      "\u001b[0;31mAttributeError\u001b[0m: 'str' object has no attribute 'head'"
     ]
    }
   ],
   "source": [
    "# Parse the HTML, create a BeautifulSoup object\n",
    "soup = BeautifulSoup(data, 'html.parser')\n",
    "soup.prettify()"
   ]
  },
  {
   "cell_type": "markdown",
   "metadata": {},
   "source": [
    "#### \"Drilling down\" to the data we want"
   ]
  },
  {
   "cell_type": "code",
   "execution_count": 65,
   "metadata": {
    "collapsed": false
   },
   "outputs": [],
   "source": [
    "# Drill-down: find the smallest tag which contains the data we are interested in\n",
    "product_boxes_frame = soup.find('div', attrs={'class': 'articleList'})"
   ]
  },
  {
   "cell_type": "code",
   "execution_count": 84,
   "metadata": {
    "collapsed": true
   },
   "outputs": [
    {
     "name": "stdout",
     "output_type": "stream",
     "text": [
      "<class 'bs4.element.Tag'>\n"
     ]
    },
    {
     "data": {
      "text/plain": [
       "[' ',\n",
       " ' Container of list items - START ',\n",
       " '\\n',\n",
       " <a href=\"https://www.truckscout24.com/vehicle-details/Containers-A1-Container-Absetzmulde-7m-Mulde-Rot-Skip-container/18249291/1\" onclick=\"\" style=\"text-decoration: none;\"> <!-- one item of list -->\n",
       " <div class=\"listItem topBorder clearfix\">\n",
       " <div class=\"floatLeft\">\n",
       " <div class=\"listItemSpacer\"></div>\n",
       " </div>\n",
       " <div class=\"floatLeft listImage\">\n",
       " <div id=\"container\">\n",
       " <div class=\"image-wrapper\">\n",
       " <div class=\"image-container\">\n",
       " <img class=\"\" src=\"https://pic.truckscout24.net/images-small/91/92/0018249291001.jpg\"/>\n",
       " </div>\n",
       " </div>\n",
       " </div>\n",
       " <div class=\"marginTopFontS paddingBottomM\">\n",
       " <span class=\"fontLegal floatLeft\">1 Image</span>\n",
       " </div>\n",
       " </div>\n",
       " <div class=\"floatLeft listData noUnderline\">\n",
       " <div class=\"listItemHeader\">\n",
       " <div class=\"gridSpan7 gridInner floatRight flexibleGridHeaderHeight\">\n",
       " <div class=\"fontDefault cursorPointer\">\n",
       " <div class=\"listItemHeaderPrice floatLeft\">\n",
       " <span>€</span>\n",
       " <span class=\"fontHeadline\">1.100,-</span>\n",
       " <span class=\"marginLeftS fontDefault cursorPointer\">(€ 1.309,- Gross price)</span>\n",
       " </div>\n",
       " <div class=\"listItemHeaderMileage paddingHorizontalM floatLeft\">\n",
       " <span class=\"fontHeadline\">10.000</span>\n",
       " <span>kg</span>\n",
       " </div>\n",
       " <div class=\"listItemHeaderEZ paddingHorizontalM floatLeft\">\n",
       " <span class=\"fontHeadline\">\n",
       "             2018 \n",
       "             </span>\n",
       " <span>PY</span>\n",
       " </div>\n",
       " </div>\n",
       " </div>\n",
       " </div>\n",
       " <div class=\"gridSpan2 floatRight\">\n",
       " <div class=\"gridSpan2 gridInner\">\n",
       " <div class=\" paddingTopFontS floatRight paddingHorizontalM boxPictureLogoS\">\n",
       " </div>\n",
       " </div>\n",
       " <div class=\"gridSpan2 gridInner\">\n",
       " <div class=\"paddingTopFontM floatRight paddingHorizontalM\" id=\"contactseller\" popup_opener=\"2141533812\" style=\"position:relative; margin-left:-50px;\" vehicleid=\"18249291\">\n",
       " <div class=\"fontIconLink IconAndTextS\">\n",
       " <span class=\"iconSendMessageS\"></span>\n",
       "                                 Contact seller\n",
       "                             </div>\n",
       " </div>\n",
       " </div>\n",
       " </div>\n",
       " <div class=\"gridSpan5 floatRight marginTopFontS paddingBottomM\">\n",
       " <div>\n",
       " <span class=\"fontLoud\">A1 Container - Absetzmulde 7mÂ³ Mulde Rot - Skip...</span>\n",
       " </div>\n",
       " <div>\n",
       " <span class=\"fontSilent\">D-27243 GroÃ Ippener - </span>\n",
       " <span class=\"fontDefault cursorPointer\">New</span>\n",
       " </div>\n",
       " </div>\n",
       " </div>\n",
       " </div>\n",
       " <div id=\"highlightDiv\"></div>\n",
       " </a>,\n",
       " ' ',\n",
       " ' End of one list item ',\n",
       " '\\n',\n",
       " <a href=\"https://www.truckscout24.com/vehicle-details/Containers-Sonstige-Other-Onbekend-flat-vlakke-bak-open-container-Special-container/18249733/1\" onclick=\"\" style=\"text-decoration: none;\"> <!-- one item of list -->\n",
       " <div class=\"listItem topBorder clearfix\">\n",
       " <div class=\"floatLeft\">\n",
       " <div class=\"listItemSpacer\"></div>\n",
       " </div>\n",
       " <div class=\"floatLeft listImage\">\n",
       " <div id=\"container\">\n",
       " <div class=\"image-wrapper\">\n",
       " <div class=\"image-container\">\n",
       " <img class=\"\" src=\"https://pic.truckscout24.net/images-small/33/97/0018249733001.jpg\"/>\n",
       " </div>\n",
       " </div>\n",
       " </div>\n",
       " <div class=\"marginTopFontS paddingBottomM\">\n",
       " <span class=\"fontLegal floatLeft\">7 Images</span>\n",
       " </div>\n",
       " </div>\n",
       " <div class=\"floatLeft listData noUnderline\">\n",
       " <div class=\"listItemHeader\">\n",
       " <div class=\"gridSpan7 gridInner floatRight flexibleGridHeaderHeight\">\n",
       " <div class=\"fontDefault cursorPointer\">\n",
       " <div class=\"listItemHeaderPrice floatLeft\">\n",
       " <span>€</span>\n",
       " <span class=\"fontHeadline\">1.650,-</span>\n",
       " <span class=\"marginLeftS fontDefault cursorPointer\">(€ 1.997,- Gross price)</span>\n",
       " </div>\n",
       " <div class=\"listItemHeaderMileage paddingHorizontalM floatLeft\">\n",
       " <span>--</span>\n",
       " </div>\n",
       " <div class=\"listItemHeaderEZ paddingHorizontalM floatLeft\">\n",
       " <span>--</span>\n",
       " </div>\n",
       " </div>\n",
       " </div>\n",
       " </div>\n",
       " <div class=\"gridSpan2 floatRight\">\n",
       " <div class=\"gridSpan2 gridInner\">\n",
       " <div class=\" paddingTopFontS floatRight paddingHorizontalM boxPictureLogoS\">\n",
       " <div class=\"memberLogo\" target=\"https://www.truckscout24.com/seller-vehicle-list/VSB-Groep/2141571176\">\n",
       " <img class=\"boxPictureLogoS\" src=\"https://pic.truckscout24.net/logos-big/2141571176.jpg\"/>\n",
       " </div>\n",
       " </div>\n",
       " </div>\n",
       " <div class=\"gridSpan2 gridInner\">\n",
       " <div class=\"paddingTopFontM floatRight paddingHorizontalM\" id=\"contactseller\" popup_opener=\"2141571176\" style=\"position:relative; margin-left:-50px;\" vehicleid=\"18249733\">\n",
       " <div class=\"fontIconLink IconAndTextS\">\n",
       " <span class=\"iconSendMessageS\"></span>\n",
       "                                 Contact seller\n",
       "                             </div>\n",
       " </div>\n",
       " </div>\n",
       " </div>\n",
       " <div class=\"gridSpan5 floatRight marginTopFontS paddingBottomM\">\n",
       " <div>\n",
       " <span class=\"fontLoud\">Sonstige/Other - Onbekend flat, vlakke bak, open...</span>\n",
       " </div>\n",
       " <div>\n",
       " <span class=\"fontSilent\">NL-6651 KG DRUTEN - </span>\n",
       " <span class=\"fontDefault cursorPointer\">Used</span>\n",
       " </div>\n",
       " </div>\n",
       " </div>\n",
       " </div>\n",
       " <div id=\"highlightDiv\"></div>\n",
       " </a>,\n",
       " ' ',\n",
       " ' End of one list item ']"
      ]
     },
     "execution_count": 84,
     "metadata": {},
     "output_type": "execute_result"
    }
   ],
   "source": [
    "# This returns a BeautifulSoup \"Tag\" object - NB this isn't the \"actual\" text/content, it is an object\n",
    "# which lets us do further work on\n",
    "type(product_boxes_frame)"
   ]
  },
  {
   "cell_type": "code",
   "execution_count": 66,
   "metadata": {
    "collapsed": false
   },
   "outputs": [],
   "source": [
    "# Find all product boxes - put into list\n",
    "product_boxes_list = product_boxes_frame.find_all('div', attrs={'class': 'listItem',\n",
    "                                'class': 'topBorder',\n",
    "                                'class': 'clearfix'})"
   ]
  },
  {
   "cell_type": "markdown",
   "metadata": {},
   "source": [
    "#### Extracting the data - Title"
   ]
  },
  {
   "cell_type": "code",
   "execution_count": 87,
   "metadata": {
    "collapsed": true
   },
   "outputs": [
    {
     "name": "stdout",
     "output_type": "stream",
     "text": [
      "<div class=\"listItem topBorder clearfix\">\n",
      " <div class=\"floatLeft\">\n",
      "  <div class=\"listItemSpacer\">\n",
      "  </div>\n",
      " </div>\n",
      " <div class=\"floatLeft listImage\">\n",
      "  <div id=\"container\">\n",
      "   <div class=\"image-wrapper\">\n",
      "    <div class=\"image-container\">\n",
      "     <img class=\"\" src=\"https://pic.truckscout24.net/images-small/91/92/0018249291001.jpg\"/>\n",
      "    </div>\n",
      "   </div>\n",
      "  </div>\n",
      "  <div class=\"marginTopFontS paddingBottomM\">\n",
      "   <span class=\"fontLegal floatLeft\">\n",
      "    1 Image\n",
      "   </span>\n",
      "  </div>\n",
      " </div>\n",
      " <div class=\"floatLeft listData noUnderline\">\n",
      "  <div class=\"listItemHeader\">\n",
      "   <div class=\"gridSpan7 gridInner floatRight flexibleGridHeaderHeight\">\n",
      "    <div class=\"fontDefault cursorPointer\">\n",
      "     <div class=\"listItemHeaderPrice floatLeft\">\n",
      "      <span>\n",
      "       €\n",
      "      </span>\n",
      "      <span class=\"fontHeadline\">\n",
      "       1.100,-\n",
      "      </span>\n",
      "      <span class=\"marginLeftS fontDefault cursorPointer\">\n",
      "       (€ 1.309,- Gross price)\n",
      "      </span>\n",
      "     </div>\n",
      "     <div class=\"listItemHeaderMileage paddingHorizontalM floatLeft\">\n",
      "      <span class=\"fontHeadline\">\n",
      "       10.000\n",
      "      </span>\n",
      "      <span>\n",
      "       kg\n",
      "      </span>\n",
      "     </div>\n",
      "     <div class=\"listItemHeaderEZ paddingHorizontalM floatLeft\">\n",
      "      <span class=\"fontHeadline\">\n",
      "       2018\n",
      "      </span>\n",
      "      <span>\n",
      "       PY\n",
      "      </span>\n",
      "     </div>\n",
      "    </div>\n",
      "   </div>\n",
      "  </div>\n",
      "  <div class=\"gridSpan2 floatRight\">\n",
      "   <div class=\"gridSpan2 gridInner\">\n",
      "    <div class=\" paddingTopFontS floatRight paddingHorizontalM boxPictureLogoS\">\n",
      "    </div>\n",
      "   </div>\n",
      "   <div class=\"gridSpan2 gridInner\">\n",
      "    <div class=\"paddingTopFontM floatRight paddingHorizontalM\" id=\"contactseller\" popup_opener=\"2141533812\" style=\"position:relative; margin-left:-50px;\" vehicleid=\"18249291\">\n",
      "     <div class=\"fontIconLink IconAndTextS\">\n",
      "      <span class=\"iconSendMessageS\">\n",
      "      </span>\n",
      "      Contact seller\n",
      "     </div>\n",
      "    </div>\n",
      "   </div>\n",
      "  </div>\n",
      "  <div class=\"gridSpan5 floatRight marginTopFontS paddingBottomM\">\n",
      "   <div>\n",
      "    <span class=\"fontLoud\">\n",
      "     A1 Container - Absetzmulde 7mÂ³ Mulde Rot - Skip...\n",
      "    </span>\n",
      "   </div>\n",
      "   <div>\n",
      "    <span class=\"fontSilent\">\n",
      "     D-27243 GroÃ Ippener -\n",
      "    </span>\n",
      "    <span class=\"fontDefault cursorPointer\">\n",
      "     New\n",
      "    </span>\n",
      "   </div>\n",
      "  </div>\n",
      " </div>\n",
      "</div>\n",
      "\n"
     ]
    }
   ],
   "source": [
    "# Inspect first element\n",
    "print(product_boxes_list[0].prettify())"
   ]
  },
  {
   "cell_type": "code",
   "execution_count": 86,
   "metadata": {
    "collapsed": true
   },
   "outputs": [
    {
     "name": "stdout",
     "output_type": "stream",
     "text": [
      "Woohoo!\n"
     ]
    }
   ],
   "source": [
    "# This is what we want!\n",
    "print('Woohoo!')"
   ]
  },
  {
   "cell_type": "code",
   "execution_count": 73,
   "metadata": {
    "collapsed": false
   },
   "outputs": [],
   "source": [
    "# Look at first product box - find title\n",
    "title = product_boxes_list[0].find('span', attrs={'class': 'fontLoud'})"
   ]
  },
  {
   "cell_type": "code",
   "execution_count": 88,
   "metadata": {
    "collapsed": false
   },
   "outputs": [
    {
     "data": {
      "text/plain": [
       "'A1 Container - Absetzmulde 7mÂ³ Mulde Rot - Skip...'"
      ]
     },
     "execution_count": 88,
     "metadata": {},
     "output_type": "execute_result"
    }
   ],
   "source": [
    "# Use the \".text\" attribute to extract the text relating to the found tag\n",
    "title.text"
   ]
  },
  {
   "cell_type": "code",
   "execution_count": 98,
   "metadata": {
    "collapsed": false
   },
   "outputs": [
    {
     "name": "stdout",
     "output_type": "stream",
     "text": [
      "Name: span\n",
      "Contents: ['A1 Container - Absetzmulde 7mÂ³ Mulde Rot - Skip...']\n",
      "Attrs: {'class': ['fontLoud']}\n"
     ]
    }
   ],
   "source": [
    "# Each tag has different attributes\n",
    "print(\"Name:\", title.name)\n",
    "print(\"Contents:\", title.contents)\n",
    "print(\"Attrs:\", title.attrs)"
   ]
  },
  {
   "cell_type": "markdown",
   "metadata": {},
   "source": [
    "#### Extracting the data - Price"
   ]
  },
  {
   "cell_type": "code",
   "execution_count": 109,
   "metadata": {
    "collapsed": false
   },
   "outputs": [
    {
     "name": "stdout",
     "output_type": "stream",
     "text": [
      "<span class=\"fontHeadline\">1.100,-</span>\n"
     ]
    }
   ],
   "source": [
    "# Find box with prices\n",
    "price_box = (product_boxes_list[0].\n",
    "             find('div', attrs={'class': 'listItemHeaderPrice'}).\n",
    "             find('span', attrs={'class': 'fontHeadline'}))\n",
    "\n",
    "print(price_box)"
   ]
  },
  {
   "cell_type": "code",
   "execution_count": 111,
   "metadata": {
    "collapsed": false
   },
   "outputs": [
    {
     "data": {
      "text/plain": [
       "'1100'"
      ]
     },
     "execution_count": 111,
     "metadata": {},
     "output_type": "execute_result"
    }
   ],
   "source": [
    "# A bit of cleaning\n",
    "price = price_box.text.replace(',-', '').replace('.', '')\n",
    "price"
   ]
  },
  {
   "cell_type": "code",
   "execution_count": 113,
   "metadata": {
    "collapsed": false
   },
   "outputs": [
    {
     "name": "stdout",
     "output_type": "stream",
     "text": [
      "A1 Container - Absetzmulde 7mÂ³ Mulde Rot - Skip...: 1100\n",
      "Sonstige/Other - Onbekend flat, vlakke bak, open...: 1650\n",
      "Sonstige/Other - Zandt Cargo BDF...: 900\n",
      "A1 Container - Absetzmulde mit Klappe 7mÂ³ Mulde...: 1250\n",
      "A1 Container - Unterrahmen Twist-Lock fÃ¼r 20 FuÃ...: 2450\n",
      "Krone - WP 7.7 N2S-CS Jumbo Edscha Schiebegardine...: 3500\n",
      "Krone - WP 7.7 N2S-CS Jumbo Edscha Schiebegardine...: 3500\n",
      "Krone - Schiebeplane mit Edscha Schiebeverdeck...: 5975\n",
      "Krone - Koffer Glattwandkassette - Swap box: 6850\n",
      "Sonstige/Other - 20 FuÃ DV Lagercontainer...: 1380\n",
      "Krone - Koffer Glattwandkassette - Swap box: 6250\n",
      "Krone - Koffer Glattwandkassette - Swap box: 6250\n",
      "Krone - Koffer Glattwandkassette - Swap box: 5750\n",
      "Krone - Koffer Glattwandkassette - Swap box: 8250\n",
      "Krone - Koffer Glattwandkassette - Swap box: 6950\n",
      "Krone - Schiebeplane mit Edscha Schiebeverdeck...: 6850\n",
      "Krone - Koffer Glattwandkassette - Swap box: 6750\n",
      "Sonstige/Other - Andere Schiebeplane mit Edscha...: 5950\n",
      "Krone - Koffer Glattwandkassette - Swap box: 5850\n",
      "Krone - Schiebeplane mit Edscha Schiebeverdeck...: 5850\n"
     ]
    }
   ],
   "source": [
    "# For each product box, extract information\n",
    "for prod in product_boxes_list:\n",
    "\n",
    "    # Title\n",
    "    title = prod.find('span', attrs={'class': 'fontLoud'}).text\n",
    "    \n",
    "    # Price\n",
    "    price = prod.find('div', attrs={'class': 'listItemHeaderPrice'}).find('span', attrs={'class': 'fontHeadline'}).text\n",
    "    price = price.replace(',-', '').replace('.', '')\n",
    "    print(title, price, sep=\": \")"
   ]
  },
  {
   "cell_type": "code",
   "execution_count": null,
   "metadata": {
    "collapsed": true
   },
   "outputs": [],
   "source": []
  }
 ],
 "metadata": {
  "kernelspec": {
   "display_name": "Python 3",
   "language": "python",
   "name": "python3"
  },
  "language_info": {
   "codemirror_mode": {
    "name": "ipython",
    "version": 3
   },
   "file_extension": ".py",
   "mimetype": "text/x-python",
   "name": "python",
   "nbconvert_exporter": "python",
   "pygments_lexer": "ipython3",
   "version": "3.6.0"
  }
 },
 "nbformat": 4,
 "nbformat_minor": 2
}
